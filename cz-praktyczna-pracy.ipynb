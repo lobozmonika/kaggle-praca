{
 "cells": [
  {
   "cell_type": "code",
   "execution_count": 1,
   "id": "7385aaec",
   "metadata": {
    "_cell_guid": "b1076dfc-b9ad-4769-8c92-a6c4dae69d19",
    "_uuid": "8f2839f25d086af736a60e9eeb907d3b93b6e0e5",
    "execution": {
     "iopub.execute_input": "2024-08-01T20:05:38.931909Z",
     "iopub.status.busy": "2024-08-01T20:05:38.931432Z",
     "iopub.status.idle": "2024-08-01T20:05:39.956869Z",
     "shell.execute_reply": "2024-08-01T20:05:39.955518Z"
    },
    "papermill": {
     "duration": 1.040966,
     "end_time": "2024-08-01T20:05:39.959677",
     "exception": false,
     "start_time": "2024-08-01T20:05:38.918711",
     "status": "completed"
    },
    "tags": []
   },
   "outputs": [
    {
     "name": "stdout",
     "output_type": "stream",
     "text": [
      "/kaggle/input/drug200.csv\n"
     ]
    }
   ],
   "source": [
    "import numpy as np\n",
    "import pandas as pd\n",
    "\n",
    "import os\n",
    "for dirname, _, filenames in os.walk('/kaggle/input'):\n",
    "    for filename in filenames:\n",
    "        print(os.path.join(dirname, filename))\n"
   ]
  },
  {
   "cell_type": "code",
   "execution_count": 2,
   "id": "b8bc503e",
   "metadata": {
    "execution": {
     "iopub.execute_input": "2024-08-01T20:05:39.982774Z",
     "iopub.status.busy": "2024-08-01T20:05:39.982256Z",
     "iopub.status.idle": "2024-08-01T20:05:40.026929Z",
     "shell.execute_reply": "2024-08-01T20:05:40.025859Z"
    },
    "papermill": {
     "duration": 0.059255,
     "end_time": "2024-08-01T20:05:40.029781",
     "exception": false,
     "start_time": "2024-08-01T20:05:39.970526",
     "status": "completed"
    },
    "tags": []
   },
   "outputs": [
    {
     "data": {
      "text/html": [
       "<div>\n",
       "<style scoped>\n",
       "    .dataframe tbody tr th:only-of-type {\n",
       "        vertical-align: middle;\n",
       "    }\n",
       "\n",
       "    .dataframe tbody tr th {\n",
       "        vertical-align: top;\n",
       "    }\n",
       "\n",
       "    .dataframe thead th {\n",
       "        text-align: right;\n",
       "    }\n",
       "</style>\n",
       "<table border=\"1\" class=\"dataframe\">\n",
       "  <thead>\n",
       "    <tr style=\"text-align: right;\">\n",
       "      <th></th>\n",
       "      <th>Age</th>\n",
       "      <th>Sex</th>\n",
       "      <th>BP</th>\n",
       "      <th>Cholesterol</th>\n",
       "      <th>Na_to_K</th>\n",
       "      <th>Drug</th>\n",
       "    </tr>\n",
       "  </thead>\n",
       "  <tbody>\n",
       "    <tr>\n",
       "      <th>0</th>\n",
       "      <td>23</td>\n",
       "      <td>F</td>\n",
       "      <td>HIGH</td>\n",
       "      <td>HIGH</td>\n",
       "      <td>25.355</td>\n",
       "      <td>DrugY</td>\n",
       "    </tr>\n",
       "    <tr>\n",
       "      <th>1</th>\n",
       "      <td>47</td>\n",
       "      <td>M</td>\n",
       "      <td>LOW</td>\n",
       "      <td>HIGH</td>\n",
       "      <td>13.093</td>\n",
       "      <td>drugC</td>\n",
       "    </tr>\n",
       "    <tr>\n",
       "      <th>2</th>\n",
       "      <td>47</td>\n",
       "      <td>M</td>\n",
       "      <td>LOW</td>\n",
       "      <td>HIGH</td>\n",
       "      <td>10.114</td>\n",
       "      <td>drugC</td>\n",
       "    </tr>\n",
       "    <tr>\n",
       "      <th>3</th>\n",
       "      <td>28</td>\n",
       "      <td>F</td>\n",
       "      <td>NORMAL</td>\n",
       "      <td>HIGH</td>\n",
       "      <td>7.798</td>\n",
       "      <td>drugX</td>\n",
       "    </tr>\n",
       "    <tr>\n",
       "      <th>4</th>\n",
       "      <td>61</td>\n",
       "      <td>F</td>\n",
       "      <td>LOW</td>\n",
       "      <td>HIGH</td>\n",
       "      <td>18.043</td>\n",
       "      <td>DrugY</td>\n",
       "    </tr>\n",
       "  </tbody>\n",
       "</table>\n",
       "</div>"
      ],
      "text/plain": [
       "   Age Sex      BP Cholesterol  Na_to_K   Drug\n",
       "0   23   F    HIGH        HIGH   25.355  DrugY\n",
       "1   47   M     LOW        HIGH   13.093  drugC\n",
       "2   47   M     LOW        HIGH   10.114  drugC\n",
       "3   28   F  NORMAL        HIGH    7.798  drugX\n",
       "4   61   F     LOW        HIGH   18.043  DrugY"
      ]
     },
     "execution_count": 2,
     "metadata": {},
     "output_type": "execute_result"
    }
   ],
   "source": [
    "df = pd.read_csv(\"/kaggle/input/drug200.csv\")\n",
    "df.head()"
   ]
  },
  {
   "cell_type": "code",
   "execution_count": 3,
   "id": "0deb9d12",
   "metadata": {
    "execution": {
     "iopub.execute_input": "2024-08-01T20:05:40.052790Z",
     "iopub.status.busy": "2024-08-01T20:05:40.052064Z",
     "iopub.status.idle": "2024-08-01T20:05:40.079581Z",
     "shell.execute_reply": "2024-08-01T20:05:40.078091Z"
    },
    "papermill": {
     "duration": 0.041241,
     "end_time": "2024-08-01T20:05:40.082117",
     "exception": false,
     "start_time": "2024-08-01T20:05:40.040876",
     "status": "completed"
    },
    "tags": []
   },
   "outputs": [
    {
     "name": "stdout",
     "output_type": "stream",
     "text": [
      "<class 'pandas.core.frame.DataFrame'>\n",
      "RangeIndex: 200 entries, 0 to 199\n",
      "Data columns (total 6 columns):\n",
      " #   Column       Non-Null Count  Dtype  \n",
      "---  ------       --------------  -----  \n",
      " 0   Age          200 non-null    int64  \n",
      " 1   Sex          200 non-null    object \n",
      " 2   BP           200 non-null    object \n",
      " 3   Cholesterol  200 non-null    object \n",
      " 4   Na_to_K      200 non-null    float64\n",
      " 5   Drug         200 non-null    object \n",
      "dtypes: float64(1), int64(1), object(4)\n",
      "memory usage: 9.5+ KB\n"
     ]
    }
   ],
   "source": [
    "df.info()"
   ]
  },
  {
   "cell_type": "code",
   "execution_count": 4,
   "id": "73ff1a53",
   "metadata": {
    "execution": {
     "iopub.execute_input": "2024-08-01T20:05:40.103826Z",
     "iopub.status.busy": "2024-08-01T20:05:40.103442Z",
     "iopub.status.idle": "2024-08-01T20:05:40.112352Z",
     "shell.execute_reply": "2024-08-01T20:05:40.111285Z"
    },
    "papermill": {
     "duration": 0.022396,
     "end_time": "2024-08-01T20:05:40.114649",
     "exception": false,
     "start_time": "2024-08-01T20:05:40.092253",
     "status": "completed"
    },
    "tags": []
   },
   "outputs": [
    {
     "data": {
      "text/plain": [
       "Age            0\n",
       "Sex            0\n",
       "BP             0\n",
       "Cholesterol    0\n",
       "Na_to_K        0\n",
       "Drug           0\n",
       "dtype: int64"
      ]
     },
     "execution_count": 4,
     "metadata": {},
     "output_type": "execute_result"
    }
   ],
   "source": [
    "df.isnull().sum()"
   ]
  },
  {
   "cell_type": "code",
   "execution_count": 5,
   "id": "a094bf93",
   "metadata": {
    "execution": {
     "iopub.execute_input": "2024-08-01T20:05:40.137866Z",
     "iopub.status.busy": "2024-08-01T20:05:40.137450Z",
     "iopub.status.idle": "2024-08-01T20:05:40.158431Z",
     "shell.execute_reply": "2024-08-01T20:05:40.157304Z"
    },
    "papermill": {
     "duration": 0.035443,
     "end_time": "2024-08-01T20:05:40.161042",
     "exception": false,
     "start_time": "2024-08-01T20:05:40.125599",
     "status": "completed"
    },
    "tags": []
   },
   "outputs": [
    {
     "data": {
      "text/html": [
       "<div>\n",
       "<style scoped>\n",
       "    .dataframe tbody tr th:only-of-type {\n",
       "        vertical-align: middle;\n",
       "    }\n",
       "\n",
       "    .dataframe tbody tr th {\n",
       "        vertical-align: top;\n",
       "    }\n",
       "\n",
       "    .dataframe thead th {\n",
       "        text-align: right;\n",
       "    }\n",
       "</style>\n",
       "<table border=\"1\" class=\"dataframe\">\n",
       "  <thead>\n",
       "    <tr style=\"text-align: right;\">\n",
       "      <th></th>\n",
       "      <th>Age</th>\n",
       "      <th>Na_to_K</th>\n",
       "    </tr>\n",
       "  </thead>\n",
       "  <tbody>\n",
       "    <tr>\n",
       "      <th>count</th>\n",
       "      <td>200.000000</td>\n",
       "      <td>200.000000</td>\n",
       "    </tr>\n",
       "    <tr>\n",
       "      <th>mean</th>\n",
       "      <td>44.315000</td>\n",
       "      <td>16.084485</td>\n",
       "    </tr>\n",
       "    <tr>\n",
       "      <th>std</th>\n",
       "      <td>16.544315</td>\n",
       "      <td>7.223956</td>\n",
       "    </tr>\n",
       "    <tr>\n",
       "      <th>min</th>\n",
       "      <td>15.000000</td>\n",
       "      <td>6.269000</td>\n",
       "    </tr>\n",
       "    <tr>\n",
       "      <th>25%</th>\n",
       "      <td>31.000000</td>\n",
       "      <td>10.445500</td>\n",
       "    </tr>\n",
       "    <tr>\n",
       "      <th>50%</th>\n",
       "      <td>45.000000</td>\n",
       "      <td>13.936500</td>\n",
       "    </tr>\n",
       "    <tr>\n",
       "      <th>75%</th>\n",
       "      <td>58.000000</td>\n",
       "      <td>19.380000</td>\n",
       "    </tr>\n",
       "    <tr>\n",
       "      <th>max</th>\n",
       "      <td>74.000000</td>\n",
       "      <td>38.247000</td>\n",
       "    </tr>\n",
       "  </tbody>\n",
       "</table>\n",
       "</div>"
      ],
      "text/plain": [
       "              Age     Na_to_K\n",
       "count  200.000000  200.000000\n",
       "mean    44.315000   16.084485\n",
       "std     16.544315    7.223956\n",
       "min     15.000000    6.269000\n",
       "25%     31.000000   10.445500\n",
       "50%     45.000000   13.936500\n",
       "75%     58.000000   19.380000\n",
       "max     74.000000   38.247000"
      ]
     },
     "execution_count": 5,
     "metadata": {},
     "output_type": "execute_result"
    }
   ],
   "source": [
    "df.describe()"
   ]
  },
  {
   "cell_type": "markdown",
   "id": "5023baa0",
   "metadata": {
    "papermill": {
     "duration": 0.010621,
     "end_time": "2024-08-01T20:05:40.182709",
     "exception": false,
     "start_time": "2024-08-01T20:05:40.172088",
     "status": "completed"
    },
    "tags": []
   },
   "source": [
    "# **Wizualizacje**"
   ]
  },
  {
   "cell_type": "markdown",
   "id": "cc691918",
   "metadata": {
    "papermill": {
     "duration": 0.010086,
     "end_time": "2024-08-01T20:05:40.203054",
     "exception": false,
     "start_time": "2024-08-01T20:05:40.192968",
     "status": "completed"
    },
    "tags": []
   },
   "source": [
    "#### Używane biblioteki"
   ]
  },
  {
   "cell_type": "code",
   "execution_count": 6,
   "id": "f947d85d",
   "metadata": {
    "execution": {
     "iopub.execute_input": "2024-08-01T20:05:40.226089Z",
     "iopub.status.busy": "2024-08-01T20:05:40.225633Z",
     "iopub.status.idle": "2024-08-01T20:05:41.687908Z",
     "shell.execute_reply": "2024-08-01T20:05:41.686689Z"
    },
    "papermill": {
     "duration": 1.477226,
     "end_time": "2024-08-01T20:05:41.690623",
     "exception": false,
     "start_time": "2024-08-01T20:05:40.213397",
     "status": "completed"
    },
    "tags": []
   },
   "outputs": [],
   "source": [
    "import matplotlib.pyplot as plt\n",
    "import seaborn as sns\n",
    "import warnings\n",
    "\n",
    "\n",
    "warnings.filterwarnings(\"ignore\")"
   ]
  },
  {
   "cell_type": "markdown",
   "id": "b3c3b364",
   "metadata": {
    "papermill": {
     "duration": 0.010757,
     "end_time": "2024-08-01T20:05:41.712225",
     "exception": false,
     "start_time": "2024-08-01T20:05:41.701468",
     "status": "completed"
    },
    "tags": []
   },
   "source": [
    "##### Ustawienie kolorystyki wizualizacji"
   ]
  },
  {
   "cell_type": "code",
   "execution_count": 7,
   "id": "b03f21bd",
   "metadata": {
    "execution": {
     "iopub.execute_input": "2024-08-01T20:05:41.735322Z",
     "iopub.status.busy": "2024-08-01T20:05:41.734888Z",
     "iopub.status.idle": "2024-08-01T20:05:41.740515Z",
     "shell.execute_reply": "2024-08-01T20:05:41.739329Z"
    },
    "papermill": {
     "duration": 0.020115,
     "end_time": "2024-08-01T20:05:41.742920",
     "exception": false,
     "start_time": "2024-08-01T20:05:41.722805",
     "status": "completed"
    },
    "tags": []
   },
   "outputs": [],
   "source": [
    "sns.set_palette(\"bright\")"
   ]
  },
  {
   "cell_type": "markdown",
   "id": "d5970cc5",
   "metadata": {
    "papermill": {
     "duration": 0.010502,
     "end_time": "2024-08-01T20:05:41.765205",
     "exception": false,
     "start_time": "2024-08-01T20:05:41.754703",
     "status": "completed"
    },
    "tags": []
   },
   "source": [
    "### Rozkład stosunku sodu do potasu w krwi pacjentów"
   ]
  },
  {
   "cell_type": "code",
   "execution_count": 8,
   "id": "9ea6108f",
   "metadata": {
    "execution": {
     "iopub.execute_input": "2024-08-01T20:05:41.788190Z",
     "iopub.status.busy": "2024-08-01T20:05:41.787147Z",
     "iopub.status.idle": "2024-08-01T20:05:42.206123Z",
     "shell.execute_reply": "2024-08-01T20:05:42.204511Z"
    },
    "papermill": {
     "duration": 0.433322,
     "end_time": "2024-08-01T20:05:42.208845",
     "exception": false,
     "start_time": "2024-08-01T20:05:41.775523",
     "status": "completed"
    },
    "tags": []
   },
   "outputs": [
    {
     "data": {
      "text/plain": [
       "Text(0, 0.5, 'Objętość')"
      ]
     },
     "execution_count": 8,
     "metadata": {},
     "output_type": "execute_result"
    },
    {
     "data": {
      "image/png": "[encoded data removed]",
      "text/plain": [
       "<Figure size 640x480 with 1 Axes>"
      ]
     },
     "metadata": {},
     "output_type": "display_data"
    }
   ],
   "source": [
    "sns.distplot(df['Na_to_K']);\n",
    "\n",
    "plt.xlabel('Stosunek Na do K')\n",
    "plt.ylabel('Objętość')"
   ]
  },
  {
   "cell_type": "markdown",
   "id": "d3a6dc06",
   "metadata": {
    "papermill": {
     "duration": 0.011123,
     "end_time": "2024-08-01T20:05:42.230821",
     "exception": false,
     "start_time": "2024-08-01T20:05:42.219698",
     "status": "completed"
    },
    "tags": []
   },
   "source": [
    "Stosunek sodu do potasu u pacjentów najczęściej wynosi ~10."
   ]
  },
  {
   "cell_type": "markdown",
   "id": "6c2f0ed4",
   "metadata": {
    "papermill": {
     "duration": 0.011244,
     "end_time": "2024-08-01T20:05:42.253775",
     "exception": false,
     "start_time": "2024-08-01T20:05:42.242531",
     "status": "completed"
    },
    "tags": []
   },
   "source": [
    "### Rozkład wieku pacjentów"
   ]
  },
  {
   "cell_type": "code",
   "execution_count": 9,
   "id": "8ad2725f",
   "metadata": {
    "_kg_hide-output": true,
    "execution": {
     "iopub.execute_input": "2024-08-01T20:05:42.278272Z",
     "iopub.status.busy": "2024-08-01T20:05:42.277843Z",
     "iopub.status.idle": "2024-08-01T20:05:42.617416Z",
     "shell.execute_reply": "2024-08-01T20:05:42.616098Z"
    },
    "papermill": {
     "duration": 0.354639,
     "end_time": "2024-08-01T20:05:42.620028",
     "exception": false,
     "start_time": "2024-08-01T20:05:42.265389",
     "status": "completed"
    },
    "tags": []
   },
   "outputs": [
    {
     "data": {
      "text/plain": [
       "Text(0, 0.5, 'Objętość')"
      ]
     },
     "execution_count": 9,
     "metadata": {},
     "output_type": "execute_result"
    },
    {
     "data": {
      "image/png": "[encoded data removed]",
      "text/plain": [
       "<Figure size 640x480 with 1 Axes>"
      ]
     },
     "metadata": {},
     "output_type": "display_data"
    }
   ],
   "source": [
    "sns.distplot(df['Age']);\n",
    "\n",
    "plt.xlabel('Wiek')\n",
    "plt.ylabel('Objętość')"
   ]
  },
  {
   "cell_type": "markdown",
   "id": "616a23e4",
   "metadata": {
    "papermill": {
     "duration": 0.0111,
     "end_time": "2024-08-01T20:05:42.642784",
     "exception": false,
     "start_time": "2024-08-01T20:05:42.631684",
     "status": "completed"
    },
    "tags": []
   },
   "source": [
    "Można zauważyć, że wiek jest równo rozłożony w zbiorze, jednak najwięcej pacjentów posiada około 30 do 40 lat."
   ]
  },
  {
   "cell_type": "markdown",
   "id": "cca66a5f",
   "metadata": {
    "papermill": {
     "duration": 0.011603,
     "end_time": "2024-08-01T20:05:42.665920",
     "exception": false,
     "start_time": "2024-08-01T20:05:42.654317",
     "status": "completed"
    },
    "tags": []
   },
   "source": [
    "### Liczba poszczególnych leków przydzielanych do pacjentów w zbiorze danych"
   ]
  },
  {
   "cell_type": "code",
   "execution_count": 10,
   "id": "26e2ce8a",
   "metadata": {
    "execution": {
     "iopub.execute_input": "2024-08-01T20:05:42.691974Z",
     "iopub.status.busy": "2024-08-01T20:05:42.691545Z",
     "iopub.status.idle": "2024-08-01T20:05:42.912314Z",
     "shell.execute_reply": "2024-08-01T20:05:42.909972Z"
    },
    "papermill": {
     "duration": 0.237165,
     "end_time": "2024-08-01T20:05:42.915254",
     "exception": false,
     "start_time": "2024-08-01T20:05:42.678089",
     "status": "completed"
    },
    "tags": []
   },
   "outputs": [
    {
     "data": {
      "text/plain": [
       "Text(0, 0.5, 'Liczba')"
      ]
     },
     "execution_count": 10,
     "metadata": {},
     "output_type": "execute_result"
    },
    {
     "data": {
      "image/png": "[encoded data removed]",
      "text/plain": [
       "<Figure size 640x480 with 1 Axes>"
      ]
     },
     "metadata": {},
     "output_type": "display_data"
    }
   ],
   "source": [
    "sns.histplot(data=df, x=\"Drug\")\n",
    "\n",
    "plt.xlabel('Lek (Drug)')\n",
    "plt.ylabel('Liczba')"
   ]
  },
  {
   "cell_type": "markdown",
   "id": "7b5d54ac",
   "metadata": {
    "papermill": {
     "duration": 0.012566,
     "end_time": "2024-08-01T20:05:42.940014",
     "exception": false,
     "start_time": "2024-08-01T20:05:42.927448",
     "status": "completed"
    },
    "tags": []
   },
   "source": [
    "W zbiorze najwięcej razy występuje lek DrugY, następnie drugX, a pozostałe leki występują w podobnej ilości."
   ]
  },
  {
   "cell_type": "markdown",
   "id": "d3e71a39",
   "metadata": {
    "papermill": {
     "duration": 0.012237,
     "end_time": "2024-08-01T20:05:42.964550",
     "exception": false,
     "start_time": "2024-08-01T20:05:42.952313",
     "status": "completed"
    },
    "tags": []
   },
   "source": [
    "### Rozkład pomiarów ciśnienia krwi"
   ]
  },
  {
   "cell_type": "code",
   "execution_count": 11,
   "id": "7f4b88e7",
   "metadata": {
    "execution": {
     "iopub.execute_input": "2024-08-01T20:05:42.991031Z",
     "iopub.status.busy": "2024-08-01T20:05:42.990578Z",
     "iopub.status.idle": "2024-08-01T20:05:43.251377Z",
     "shell.execute_reply": "2024-08-01T20:05:43.250055Z"
    },
    "papermill": {
     "duration": 0.277615,
     "end_time": "2024-08-01T20:05:43.254097",
     "exception": false,
     "start_time": "2024-08-01T20:05:42.976482",
     "status": "completed"
    },
    "tags": []
   },
   "outputs": [
    {
     "data": {
      "text/plain": [
       "Text(0, 0.5, 'Liczba')"
      ]
     },
     "execution_count": 11,
     "metadata": {},
     "output_type": "execute_result"
    },
    {
     "data": {
      "image/png": "[encoded data removed]",
      "text/plain": [
       "<Figure size 640x480 with 1 Axes>"
      ]
     },
     "metadata": {},
     "output_type": "display_data"
    }
   ],
   "source": [
    "sns.histplot(data=df, x=\"BP\")\n",
    "\n",
    "plt.xlabel('Ciśnienie krwi')\n",
    "plt.ylabel('Liczba')"
   ]
  },
  {
   "cell_type": "markdown",
   "id": "d2629ae6",
   "metadata": {
    "papermill": {
     "duration": 0.012441,
     "end_time": "2024-08-01T20:05:43.279252",
     "exception": false,
     "start_time": "2024-08-01T20:05:43.266811",
     "status": "completed"
    },
    "tags": []
   },
   "source": [
    "Ciśnienie krwi pacjentów występuje podobnie w zbiorze, jednak najczęśniej pojawia się wysokie ciśnienie."
   ]
  },
  {
   "cell_type": "markdown",
   "id": "250d95f4",
   "metadata": {
    "papermill": {
     "duration": 0.076201,
     "end_time": "2024-08-01T20:05:43.368984",
     "exception": false,
     "start_time": "2024-08-01T20:05:43.292783",
     "status": "completed"
    },
    "tags": []
   },
   "source": [
    "### Rozkład pomiarów cholesterolu"
   ]
  },
  {
   "cell_type": "code",
   "execution_count": 12,
   "id": "4c651574",
   "metadata": {
    "execution": {
     "iopub.execute_input": "2024-08-01T20:05:43.397061Z",
     "iopub.status.busy": "2024-08-01T20:05:43.396653Z",
     "iopub.status.idle": "2024-08-01T20:05:43.638742Z",
     "shell.execute_reply": "2024-08-01T20:05:43.636733Z"
    },
    "papermill": {
     "duration": 0.261078,
     "end_time": "2024-08-01T20:05:43.643732",
     "exception": false,
     "start_time": "2024-08-01T20:05:43.382654",
     "status": "completed"
    },
    "tags": []
   },
   "outputs": [
    {
     "data": {
      "text/plain": [
       "Text(0, 0.5, 'Liczba')"
      ]
     },
     "execution_count": 12,
     "metadata": {},
     "output_type": "execute_result"
    },
    {
     "data": {
      "image/png": "[encoded data removed]",
      "text/plain": [
       "<Figure size 640x480 with 1 Axes>"
      ]
     },
     "metadata": {},
     "output_type": "display_data"
    }
   ],
   "source": [
    "sns.histplot(data=df, x=\"Cholesterol\")\n",
    "\n",
    "plt.xlabel('Cholesterol')\n",
    "plt.ylabel('Liczba')"
   ]
  },
  {
   "cell_type": "markdown",
   "id": "99e3fb6c",
   "metadata": {
    "papermill": {
     "duration": 0.015454,
     "end_time": "2024-08-01T20:05:43.679786",
     "exception": false,
     "start_time": "2024-08-01T20:05:43.664332",
     "status": "completed"
    },
    "tags": []
   },
   "source": [
    "Pomiary cholesterolu występują podobnie w zbiorze w podobnej ilości z niewielką przewagą wysokiego poziomu cholesterolu."
   ]
  },
  {
   "cell_type": "markdown",
   "id": "b79e7ee2",
   "metadata": {
    "papermill": {
     "duration": 0.014797,
     "end_time": "2024-08-01T20:05:43.718612",
     "exception": false,
     "start_time": "2024-08-01T20:05:43.703815",
     "status": "completed"
    },
    "tags": []
   },
   "source": [
    "### Rozkład pomiarów ciśnienia krwi ze względu na cholesterol"
   ]
  },
  {
   "cell_type": "code",
   "execution_count": 13,
   "id": "a3e80fa6",
   "metadata": {
    "execution": {
     "iopub.execute_input": "2024-08-01T20:05:43.750069Z",
     "iopub.status.busy": "2024-08-01T20:05:43.749538Z",
     "iopub.status.idle": "2024-08-01T20:05:44.112169Z",
     "shell.execute_reply": "2024-08-01T20:05:44.106411Z"
    },
    "papermill": {
     "duration": 0.391194,
     "end_time": "2024-08-01T20:05:44.124665",
     "exception": false,
     "start_time": "2024-08-01T20:05:43.733471",
     "status": "completed"
    },
    "tags": []
   },
   "outputs": [
    {
     "data": {
      "text/plain": [
       "<Axes: xlabel='BP', ylabel='count'>"
      ]
     },
     "execution_count": 13,
     "metadata": {},
     "output_type": "execute_result"
    },
    {
     "data": {
      "image/png": "[encoded data removed]",
      "text/plain": [
       "<Figure size 640x480 with 1 Axes>"
      ]
     },
     "metadata": {},
     "output_type": "display_data"
    }
   ],
   "source": [
    "sns.countplot(df, x=\"BP\", hue=\"Cholesterol\")"
   ]
  },
  {
   "cell_type": "markdown",
   "id": "bc6c0350",
   "metadata": {
    "papermill": {
     "duration": 0.019604,
     "end_time": "2024-08-01T20:05:44.167412",
     "exception": false,
     "start_time": "2024-08-01T20:05:44.147808",
     "status": "completed"
    },
    "tags": []
   },
   "source": [
    "Dla wysokiego cholesterolu rozkład ciśnienia krwi jest równomierny, jednak przy normalnym poziomie cholesterolu przeważa wysokie ciśnienie krwi, a przy normalnym ciśnieniu krwi przeważa wysoki poziom cholesterolu."
   ]
  },
  {
   "cell_type": "markdown",
   "id": "eb669edd",
   "metadata": {
    "papermill": {
     "duration": 0.015366,
     "end_time": "2024-08-01T20:05:44.197090",
     "exception": false,
     "start_time": "2024-08-01T20:05:44.181724",
     "status": "completed"
    },
    "tags": []
   },
   "source": [
    "### Rozkład pomiarów ciśnienia krwi ze względu na płeć"
   ]
  },
  {
   "cell_type": "code",
   "execution_count": 14,
   "id": "5df5be1c",
   "metadata": {
    "execution": {
     "iopub.execute_input": "2024-08-01T20:05:44.233111Z",
     "iopub.status.busy": "2024-08-01T20:05:44.232601Z",
     "iopub.status.idle": "2024-08-01T20:05:44.606637Z",
     "shell.execute_reply": "2024-08-01T20:05:44.605301Z"
    },
    "papermill": {
     "duration": 0.398626,
     "end_time": "2024-08-01T20:05:44.609472",
     "exception": false,
     "start_time": "2024-08-01T20:05:44.210846",
     "status": "completed"
    },
    "tags": []
   },
   "outputs": [
    {
     "data": {
      "text/plain": [
       "<Axes: xlabel='BP', ylabel='count'>"
      ]
     },
     "execution_count": 14,
     "metadata": {},
     "output_type": "execute_result"
    },
    {
     "data": {
      "image/png": "[encoded data removed]",
      "text/plain": [
       "<Figure size 640x480 with 1 Axes>"
      ]
     },
     "metadata": {},
     "output_type": "display_data"
    }
   ],
   "source": [
    "sns.countplot(df, x=\"BP\", hue=\"Sex\")"
   ]
  },
  {
   "cell_type": "markdown",
   "id": "ed03607e",
   "metadata": {
    "papermill": {
     "duration": 0.014702,
     "end_time": "2024-08-01T20:05:44.638295",
     "exception": false,
     "start_time": "2024-08-01T20:05:44.623593",
     "status": "completed"
    },
    "tags": []
   },
   "source": [
    "U kobiet oraz mężczyzn przeważa wysokie ciśnienie krwi, jednak u kobiet różnica między wysokim i niskim ciśnieniem jest większa."
   ]
  },
  {
   "cell_type": "markdown",
   "id": "ff1e041b",
   "metadata": {
    "papermill": {
     "duration": 0.014948,
     "end_time": "2024-08-01T20:05:44.667495",
     "exception": false,
     "start_time": "2024-08-01T20:05:44.652547",
     "status": "completed"
    },
    "tags": []
   },
   "source": [
    "### Rozkład pomiarów cholesterolu ze względu na płeć"
   ]
  },
  {
   "cell_type": "code",
   "execution_count": 15,
   "id": "c8c79d96",
   "metadata": {
    "execution": {
     "iopub.execute_input": "2024-08-01T20:05:44.698631Z",
     "iopub.status.busy": "2024-08-01T20:05:44.698134Z",
     "iopub.status.idle": "2024-08-01T20:05:44.995142Z",
     "shell.execute_reply": "2024-08-01T20:05:44.993401Z"
    },
    "papermill": {
     "duration": 0.316515,
     "end_time": "2024-08-01T20:05:44.998772",
     "exception": false,
     "start_time": "2024-08-01T20:05:44.682257",
     "status": "completed"
    },
    "tags": []
   },
   "outputs": [
    {
     "data": {
      "text/plain": [
       "<Axes: xlabel='Cholesterol', ylabel='count'>"
      ]
     },
     "execution_count": 15,
     "metadata": {},
     "output_type": "execute_result"
    },
    {
     "data": {
      "image/png": "[encoded data removed]",
      "text/plain": [
       "<Figure size 640x480 with 1 Axes>"
      ]
     },
     "metadata": {},
     "output_type": "display_data"
    }
   ],
   "source": [
    "sns.countplot(df, x=\"Cholesterol\", hue=\"Sex\", width=0.6)"
   ]
  },
  {
   "cell_type": "markdown",
   "id": "58c70203",
   "metadata": {
    "papermill": {
     "duration": 0.016359,
     "end_time": "2024-08-01T20:05:45.031021",
     "exception": false,
     "start_time": "2024-08-01T20:05:45.014662",
     "status": "completed"
    },
    "tags": []
   },
   "source": [
    "U kobiet i mężczyzn można zaobserwować równomierny rozkład poziomu cholesterolu, jednak z przewagą wysokiego poziomu cholesterolu u obu grup."
   ]
  },
  {
   "cell_type": "markdown",
   "id": "57656dd0",
   "metadata": {
    "papermill": {
     "duration": 0.017334,
     "end_time": "2024-08-01T20:05:45.064927",
     "exception": false,
     "start_time": "2024-08-01T20:05:45.047593",
     "status": "completed"
    },
    "tags": []
   },
   "source": [
    "### Rozkład płci"
   ]
  },
  {
   "cell_type": "code",
   "execution_count": 16,
   "id": "6f3b913a",
   "metadata": {
    "execution": {
     "iopub.execute_input": "2024-08-01T20:05:45.108289Z",
     "iopub.status.busy": "2024-08-01T20:05:45.107792Z",
     "iopub.status.idle": "2024-08-01T20:05:45.350112Z",
     "shell.execute_reply": "2024-08-01T20:05:45.348910Z"
    },
    "papermill": {
     "duration": 0.266948,
     "end_time": "2024-08-01T20:05:45.352807",
     "exception": false,
     "start_time": "2024-08-01T20:05:45.085859",
     "status": "completed"
    },
    "tags": []
   },
   "outputs": [
    {
     "data": {
      "text/plain": [
       "Text(0, 0.5, 'Liczba')"
      ]
     },
     "execution_count": 16,
     "metadata": {},
     "output_type": "execute_result"
    },
    {
     "data": {
      "image/png": "[encoded data removed]",
      "text/plain": [
       "<Figure size 640x480 with 1 Axes>"
      ]
     },
     "metadata": {},
     "output_type": "display_data"
    }
   ],
   "source": [
    "sns.histplot(data=df, x=\"Sex\")\n",
    "\n",
    "plt.xlabel('Płeć')\n",
    "plt.ylabel('Liczba')"
   ]
  },
  {
   "cell_type": "markdown",
   "id": "73a92558",
   "metadata": {
    "papermill": {
     "duration": 0.015141,
     "end_time": "2024-08-01T20:05:45.383307",
     "exception": false,
     "start_time": "2024-08-01T20:05:45.368166",
     "status": "completed"
    },
    "tags": []
   },
   "source": [
    "Liczba mężczyzn w zbiorze jest niewiele większa niż liczba kobiet."
   ]
  },
  {
   "cell_type": "markdown",
   "id": "e98b7855",
   "metadata": {
    "papermill": {
     "duration": 0.01508,
     "end_time": "2024-08-01T20:05:45.415245",
     "exception": false,
     "start_time": "2024-08-01T20:05:45.400165",
     "status": "completed"
    },
    "tags": []
   },
   "source": [
    "### Rozkład wieku pacjentów ze względu na płeć"
   ]
  },
  {
   "cell_type": "code",
   "execution_count": 17,
   "id": "0e9fe71a",
   "metadata": {
    "execution": {
     "iopub.execute_input": "2024-08-01T20:05:45.453760Z",
     "iopub.status.busy": "2024-08-01T20:05:45.452149Z",
     "iopub.status.idle": "2024-08-01T20:05:46.270419Z",
     "shell.execute_reply": "2024-08-01T20:05:46.269275Z"
    },
    "papermill": {
     "duration": 0.840785,
     "end_time": "2024-08-01T20:05:46.273681",
     "exception": false,
     "start_time": "2024-08-01T20:05:45.432896",
     "status": "completed"
    },
    "tags": []
   },
   "outputs": [
    {
     "data": {
      "text/plain": [
       "<seaborn.axisgrid.FacetGrid at 0x7b0675b0a2f0>"
      ]
     },
     "execution_count": 17,
     "metadata": {},
     "output_type": "execute_result"
    },
    {
     "data": {
      "image/png": "[encoded data removed]",
      "text/plain": [
       "<Figure size 1000x500 with 2 Axes>"
      ]
     },
     "metadata": {},
     "output_type": "display_data"
    }
   ],
   "source": [
    "sns.displot(df, x=\"Age\", col=\"Sex\")"
   ]
  },
  {
   "cell_type": "markdown",
   "id": "82a0258c",
   "metadata": {
    "papermill": {
     "duration": 0.015277,
     "end_time": "2024-08-01T20:05:46.306153",
     "exception": false,
     "start_time": "2024-08-01T20:05:46.290876",
     "status": "completed"
    },
    "tags": []
   },
   "source": [
    "U kobiet można zaobserować większą liczbę badanych w wieku mniejszym niż 40 lat, jednak większość mężczyzn w zbiorze posiada więcej niż 60 lat."
   ]
  },
  {
   "cell_type": "markdown",
   "id": "a2452955",
   "metadata": {
    "papermill": {
     "duration": 0.015671,
     "end_time": "2024-08-01T20:05:46.337312",
     "exception": false,
     "start_time": "2024-08-01T20:05:46.321641",
     "status": "completed"
    },
    "tags": []
   },
   "source": [
    "### Rozkład przydzielonych leków ze względu na płeć"
   ]
  },
  {
   "cell_type": "code",
   "execution_count": 18,
   "id": "21092d58",
   "metadata": {
    "execution": {
     "iopub.execute_input": "2024-08-01T20:05:46.371456Z",
     "iopub.status.busy": "2024-08-01T20:05:46.371043Z",
     "iopub.status.idle": "2024-08-01T20:05:46.674616Z",
     "shell.execute_reply": "2024-08-01T20:05:46.673200Z"
    },
    "papermill": {
     "duration": 0.323445,
     "end_time": "2024-08-01T20:05:46.677698",
     "exception": false,
     "start_time": "2024-08-01T20:05:46.354253",
     "status": "completed"
    },
    "tags": []
   },
   "outputs": [
    {
     "data": {
      "text/plain": [
       "<Axes: xlabel='Drug', ylabel='count'>"
      ]
     },
     "execution_count": 18,
     "metadata": {},
     "output_type": "execute_result"
    },
    {
     "data": {
      "image/png": "[encoded data removed]",
      "text/plain": [
       "<Figure size 640x480 with 1 Axes>"
      ]
     },
     "metadata": {},
     "output_type": "display_data"
    }
   ],
   "source": [
    "sns.countplot(df, x=\"Drug\", hue=\"Sex\")"
   ]
  },
  {
   "cell_type": "markdown",
   "id": "8a99a512",
   "metadata": {
    "papermill": {
     "duration": 0.016398,
     "end_time": "2024-08-01T20:05:46.709598",
     "exception": false,
     "start_time": "2024-08-01T20:05:46.693200",
     "status": "completed"
    },
    "tags": []
   },
   "source": [
    "W obu grupach lek został przydzielony w podobnym stosunku."
   ]
  },
  {
   "cell_type": "markdown",
   "id": "a1e0d354",
   "metadata": {
    "papermill": {
     "duration": 0.015798,
     "end_time": "2024-08-01T20:05:46.741678",
     "exception": false,
     "start_time": "2024-08-01T20:05:46.725880",
     "status": "completed"
    },
    "tags": []
   },
   "source": [
    "### Stosunek Na do K w krwi ze względu na płeć"
   ]
  },
  {
   "cell_type": "code",
   "execution_count": 19,
   "id": "c2944933",
   "metadata": {
    "execution": {
     "iopub.execute_input": "2024-08-01T20:05:46.776556Z",
     "iopub.status.busy": "2024-08-01T20:05:46.775800Z",
     "iopub.status.idle": "2024-08-01T20:05:47.355639Z",
     "shell.execute_reply": "2024-08-01T20:05:47.354469Z"
    },
    "papermill": {
     "duration": 0.600773,
     "end_time": "2024-08-01T20:05:47.358471",
     "exception": false,
     "start_time": "2024-08-01T20:05:46.757698",
     "status": "completed"
    },
    "tags": []
   },
   "outputs": [
    {
     "data": {
      "text/plain": [
       "<seaborn.axisgrid.FacetGrid at 0x7b0675be3ca0>"
      ]
     },
     "execution_count": 19,
     "metadata": {},
     "output_type": "execute_result"
    },
    {
     "data": {
      "image/png": "[encoded data removed]",
      "text/plain": [
       "<Figure size 562x500 with 1 Axes>"
      ]
     },
     "metadata": {},
     "output_type": "display_data"
    }
   ],
   "source": [
    "sns.relplot(data=df, x=\"Na_to_K\", y=\"Age\", hue=\"Sex\")"
   ]
  },
  {
   "cell_type": "markdown",
   "id": "d74ce074",
   "metadata": {
    "papermill": {
     "duration": 0.01851,
     "end_time": "2024-08-01T20:05:47.393342",
     "exception": false,
     "start_time": "2024-08-01T20:05:47.374832",
     "status": "completed"
    },
    "tags": []
   },
   "source": [
    "Można zaobserwować, że niezależnie od wieku, stosunek sodu do potasu we krwi pacjentów jest równomierny."
   ]
  },
  {
   "cell_type": "markdown",
   "id": "10422e82",
   "metadata": {
    "papermill": {
     "duration": 0.016737,
     "end_time": "2024-08-01T20:05:47.426821",
     "exception": false,
     "start_time": "2024-08-01T20:05:47.410084",
     "status": "completed"
    },
    "tags": []
   },
   "source": [
    "### Rozkład leku ze względu na ciśnienie krwi"
   ]
  },
  {
   "cell_type": "code",
   "execution_count": 20,
   "id": "cef31429",
   "metadata": {
    "execution": {
     "iopub.execute_input": "2024-08-01T20:05:47.464108Z",
     "iopub.status.busy": "2024-08-01T20:05:47.463604Z",
     "iopub.status.idle": "2024-08-01T20:05:47.763576Z",
     "shell.execute_reply": "2024-08-01T20:05:47.762417Z"
    },
    "papermill": {
     "duration": 0.322856,
     "end_time": "2024-08-01T20:05:47.766915",
     "exception": false,
     "start_time": "2024-08-01T20:05:47.444059",
     "status": "completed"
    },
    "tags": []
   },
   "outputs": [
    {
     "data": {
      "text/plain": [
       "<Axes: xlabel='Drug', ylabel='count'>"
      ]
     },
     "execution_count": 20,
     "metadata": {},
     "output_type": "execute_result"
    },
    {
     "data": {
      "image/png": "[encoded data removed]",
      "text/plain": [
       "<Figure size 640x480 with 1 Axes>"
      ]
     },
     "metadata": {},
     "output_type": "display_data"
    }
   ],
   "source": [
    "sns.countplot(data=df, x=\"Drug\", hue=\"BP\")"
   ]
  },
  {
   "cell_type": "markdown",
   "id": "516f0e0a",
   "metadata": {
    "papermill": {
     "duration": 0.016868,
     "end_time": "2024-08-01T20:05:47.800835",
     "exception": false,
     "start_time": "2024-08-01T20:05:47.783967",
     "status": "completed"
    },
    "tags": []
   },
   "source": [
    "Dla pacjentów z wysokim ciśnieniem krwi zostały przypisane leki DrugY, drugA oraz drugB, a dla pacjentów z niskim ciśnieniem zostały przypisane leki DrugY, drugC i drugX. Dla pacjentów z normalnym ciśnieniem krwi zostały przypisane jedynie leki DrugY i drugX. Jedynym lekiem, do którego są przypisani pacjenci ze wszystkimi pomiarami ciśnienia krwi jest DrugY."
   ]
  },
  {
   "cell_type": "markdown",
   "id": "227f780f",
   "metadata": {
    "papermill": {
     "duration": 0.01796,
     "end_time": "2024-08-01T20:05:47.837484",
     "exception": false,
     "start_time": "2024-08-01T20:05:47.819524",
     "status": "completed"
    },
    "tags": []
   },
   "source": [
    "### Rozkład leku ze względu na poziom cholesterolu"
   ]
  },
  {
   "cell_type": "code",
   "execution_count": 21,
   "id": "7972cdab",
   "metadata": {
    "execution": {
     "iopub.execute_input": "2024-08-01T20:05:47.874183Z",
     "iopub.status.busy": "2024-08-01T20:05:47.873728Z",
     "iopub.status.idle": "2024-08-01T20:05:48.136437Z",
     "shell.execute_reply": "2024-08-01T20:05:48.135150Z"
    },
    "papermill": {
     "duration": 0.283884,
     "end_time": "2024-08-01T20:05:48.138788",
     "exception": false,
     "start_time": "2024-08-01T20:05:47.854904",
     "status": "completed"
    },
    "tags": []
   },
   "outputs": [
    {
     "data": {
      "text/plain": [
       "<Axes: xlabel='Drug', ylabel='count'>"
      ]
     },
     "execution_count": 21,
     "metadata": {},
     "output_type": "execute_result"
    },
    {
     "data": {
      "image/png": "[encoded data removed]",
      "text/plain": [
       "<Figure size 640x480 with 1 Axes>"
      ]
     },
     "metadata": {},
     "output_type": "display_data"
    }
   ],
   "source": [
    "sns.countplot(data=df, x=\"Drug\", hue=\"Cholesterol\")"
   ]
  },
  {
   "cell_type": "markdown",
   "id": "f318afc6",
   "metadata": {
    "papermill": {
     "duration": 0.017736,
     "end_time": "2024-08-01T20:05:48.173694",
     "exception": false,
     "start_time": "2024-08-01T20:05:48.155958",
     "status": "completed"
    },
    "tags": []
   },
   "source": [
    "DrugY, drugA oraz drugB zostały równomiernie przypisane do pacjentów dla poszczególnych poziomów cholesterolu. Dla leku drugC zostali przypisani jedynie pacjenci z wysokim poziomem cholesterolu, a przy leku drugX przeważają pacjenci z normalnym poziomem cholesterolu."
   ]
  }
 ],
 "metadata": {
  "kaggle": {
   "accelerator": "none",
   "dataSources": [
    {
     "datasetId": 830916,
     "sourceId": 1419436,
     "sourceType": "datasetVersion"
    }
   ],
   "dockerImageVersionId": 30746,
   "isGpuEnabled": false,
   "isInternetEnabled": true,
   "language": "python",
   "sourceType": "notebook"
  },
  "kernelspec": {
   "display_name": "Python 3",
   "language": "python",
   "name": "python3"
  },
  "language_info": {
   "codemirror_mode": {
    "name": "ipython",
    "version": 3
   },
   "file_extension": ".py",
   "mimetype": "text/x-python",
   "name": "python",
   "nbconvert_exporter": "python",
   "pygments_lexer": "ipython3",
   "version": "3.10.13"
  },
  "papermill": {
   "default_parameters": {},
   "duration": 13.097414,
   "end_time": "2024-08-01T20:05:48.915801",
   "environment_variables": {},
   "exception": null,
   "input_path": "__notebook__.ipynb",
   "output_path": "__notebook__.ipynb",
   "parameters": {},
   "start_time": "2024-08-01T20:05:35.818387",
   "version": "2.5.0"
  }
 },
 "nbformat": 4,
 "nbformat_minor": 5
}
